{
 "cells": [
  {
   "cell_type": "code",
   "execution_count": 1,
   "id": "47cb17c8",
   "metadata": {},
   "outputs": [],
   "source": [
    "import pydicom \n",
    "import os      \n",
    "import csv     \n",
    "import logging"
   ]
  },
  {
   "cell_type": "markdown",
   "id": "ff728ead",
   "metadata": {},
   "source": [
    "1"
   ]
  },
  {
   "cell_type": "code",
   "execution_count": 2,
   "id": "f02682ee",
   "metadata": {},
   "outputs": [
    {
     "name": "stderr",
     "output_type": "stream",
     "text": [
      "ERROR: El directorio especificado no existe: ./Tarea_1/datos/data_1\n",
      "WARNING: No se encontraron datos de pacientes para escribir en el archivo CSV.\n"
     ]
    }
   ],
   "source": [
    "logging.basicConfig(level=logging.INFO, format='%(levelname)s: %(message)s')\n",
    "\n",
    "data_dir = './Tarea_1/datos/data_1'\n",
    "output_csv_file = 'patient_info_data1.csv'\n",
    "\n",
    "# Lista para almacenar la información de los pacientes\n",
    "patient_data = []\n",
    "\n",
    "# Verificar si el directorio existe\n",
    "if not os.path.isdir(data_dir):\n",
    "    logging.error(f\"El directorio especificado no existe: {data_dir}\")\n",
    "else:\n",
    "    logging.info(f\"Buscando archivos DICOM en: {data_dir}\")\n",
    "\n",
    "    for filename in os.listdir(data_dir):\n",
    "       \n",
    "        filepath = os.path.join(data_dir, filename)\n",
    "\n",
    "        if os.path.isfile(filepath):\n",
    "            try:\n",
    "                # Leer DICOM\n",
    "                ds = pydicom.dcmread(filepath, force=True) \n",
    "\n",
    "                patient_name = ds.get('PatientName', 'N/A') # Nombre\n",
    "                birth_date = ds.get('PatientBirthDate', 'N/A') # Cumpleaños\n",
    "\n",
    "                # Añadir los datos a una lista\n",
    "                patient_data.append([patient_name, birth_date])\n",
    "                logging.info(f\"Procesado: {filename} - Nombre: {patient_name}, Nacimiento: {birth_date}\")\n",
    "\n",
    "            except pydicom.errors.InvalidDicomError:\n",
    "                # Si el archivo no valido\n",
    "                logging.warning(f\"Archivo no es DICOM o está corrupto, omitiendo: {filename}\")\n",
    "            except Exception as e:\n",
    "                # Posibles errores \n",
    "                logging.error(f\"Error procesando el archivo {filename}: {e}\")\n",
    "\n",
    "# Escribir los datos en un archivo CSV\n",
    "if patient_data: # Solo escribir si se encontraron datos\n",
    "    try:\n",
    "        with open(output_csv_file, 'w', newline='', encoding='utf-8') as csvfile:\n",
    "            writer = csv.writer(csvfile)\n",
    "            # Escribir la cabecera\n",
    "            writer.writerow(['PatientName', 'PatientBirthDate'])\n",
    "            # Escribir los datos de los pacientes\n",
    "            writer.writerows(patient_data)\n",
    "        logging.info(f\"Archivo CSV '{output_csv_file}' generado exitosamente con {len(patient_data)} registros.\")\n",
    "    except Exception as e:\n",
    "        logging.error(f\"Error al escribir el archivo CSV: {e}\")\n",
    "else:\n",
    "    logging.warning(\"No se encontraron datos de pacientes para escribir en el archivo CSV.\")\n"
   ]
  }
 ],
 "metadata": {
  "kernelspec": {
   "display_name": "Python 3",
   "language": "python",
   "name": "python3"
  },
  "language_info": {
   "codemirror_mode": {
    "name": "ipython",
    "version": 3
   },
   "file_extension": ".py",
   "mimetype": "text/x-python",
   "name": "python",
   "nbconvert_exporter": "python",
   "pygments_lexer": "ipython3",
   "version": "3.13.3"
  }
 },
 "nbformat": 4,
 "nbformat_minor": 5
}
